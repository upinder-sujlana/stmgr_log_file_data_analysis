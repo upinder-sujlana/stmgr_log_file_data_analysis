{
 "cells": [
  {
   "cell_type": "code",
   "execution_count": 1,
   "metadata": {},
   "outputs": [],
   "source": [
    "import pandas as pd\n",
    "import numpy as np\n",
    "\n",
    "import matplotlib.pyplot as plt\n",
    "import seaborn as sns\n",
    "\n",
    "%matplotlib inline\n"
   ]
  },
  {
   "cell_type": "code",
   "execution_count": 49,
   "metadata": {},
   "outputs": [
    {
     "data": {
      "text/html": [
       "<div>\n",
       "<style scoped>\n",
       "    .dataframe tbody tr th:only-of-type {\n",
       "        vertical-align: middle;\n",
       "    }\n",
       "\n",
       "    .dataframe tbody tr th {\n",
       "        vertical-align: top;\n",
       "    }\n",
       "\n",
       "    .dataframe thead th {\n",
       "        text-align: right;\n",
       "    }\n",
       "</style>\n",
       "<table border=\"1\" class=\"dataframe\">\n",
       "  <thead>\n",
       "    <tr style=\"text-align: right;\">\n",
       "      <th></th>\n",
       "      <th>Datetime</th>\n",
       "      <th>Message Severity</th>\n",
       "      <th>Message Text</th>\n",
       "    </tr>\n",
       "  </thead>\n",
       "  <tbody>\n",
       "    <tr>\n",
       "      <td>0</td>\n",
       "      <td>2020-04-01-17:38:47.836</td>\n",
       "      <td>DEBUG</td>\n",
       "      <td>(ThriftTracker: Invoking getVirtualCenter with...</td>\n",
       "    </tr>\n",
       "    <tr>\n",
       "      <td>1</td>\n",
       "      <td>2020-04-01-17:38:48.325</td>\n",
       "      <td>DEBUG</td>\n",
       "      <td>Checking Root session ID.</td>\n",
       "    </tr>\n",
       "    <tr>\n",
       "      <td>2</td>\n",
       "      <td>2020-04-01-17:38:48.012</td>\n",
       "      <td>DEBUG</td>\n",
       "      <td>withFuture: Completion action begin for (Some(...</td>\n",
       "    </tr>\n",
       "    <tr>\n",
       "      <td>3</td>\n",
       "      <td>2020-04-01-17:38:48.005</td>\n",
       "      <td>DEBUG</td>\n",
       "      <td>withFuture: Completion action begin for (Some(...</td>\n",
       "    </tr>\n",
       "    <tr>\n",
       "      <td>4</td>\n",
       "      <td>2020-04-01-17:38:47.990</td>\n",
       "      <td>DEBUG</td>\n",
       "      <td>Checking Root session ID.</td>\n",
       "    </tr>\n",
       "  </tbody>\n",
       "</table>\n",
       "</div>"
      ],
      "text/plain": [
       "                  Datetime Message Severity  \\\n",
       "0  2020-04-01-17:38:47.836            DEBUG   \n",
       "1  2020-04-01-17:38:48.325            DEBUG   \n",
       "2  2020-04-01-17:38:48.012            DEBUG   \n",
       "3  2020-04-01-17:38:48.005            DEBUG   \n",
       "4  2020-04-01-17:38:47.990            DEBUG   \n",
       "\n",
       "                                        Message Text  \n",
       "0  (ThriftTracker: Invoking getVirtualCenter with...  \n",
       "1                          Checking Root session ID.  \n",
       "2  withFuture: Completion action begin for (Some(...  \n",
       "3  withFuture: Completion action begin for (Some(...  \n",
       "4                          Checking Root session ID.  "
      ]
     },
     "execution_count": 49,
     "metadata": {},
     "output_type": "execute_result"
    }
   ],
   "source": [
    "#Load the file\n",
    "stmgr = pd.read_csv(r\"C:\\Users\\usujlana\\Desktop\\stmgr_dump_2020_April_01-13_47_41.csv\")\n"
   ]
  },
  {
   "cell_type": "code",
   "execution_count": 52,
   "metadata": {},
   "outputs": [
    {
     "data": {
      "text/plain": [
       "pandas.core.frame.DataFrame"
      ]
     },
     "execution_count": 52,
     "metadata": {},
     "output_type": "execute_result"
    }
   ],
   "source": [
    "type(stmgr)"
   ]
  },
  {
   "cell_type": "code",
   "execution_count": 54,
   "metadata": {},
   "outputs": [
    {
     "data": {
      "text/html": [
       "<div>\n",
       "<style scoped>\n",
       "    .dataframe tbody tr th:only-of-type {\n",
       "        vertical-align: middle;\n",
       "    }\n",
       "\n",
       "    .dataframe tbody tr th {\n",
       "        vertical-align: top;\n",
       "    }\n",
       "\n",
       "    .dataframe thead th {\n",
       "        text-align: right;\n",
       "    }\n",
       "</style>\n",
       "<table border=\"1\" class=\"dataframe\">\n",
       "  <thead>\n",
       "    <tr style=\"text-align: right;\">\n",
       "      <th></th>\n",
       "      <th>Datetime</th>\n",
       "      <th>Message Severity</th>\n",
       "      <th>Message Text</th>\n",
       "    </tr>\n",
       "  </thead>\n",
       "  <tbody>\n",
       "    <tr>\n",
       "      <td>0</td>\n",
       "      <td>2020-04-01-17:38:47.836</td>\n",
       "      <td>DEBUG</td>\n",
       "      <td>(ThriftTracker: Invoking getVirtualCenter with...</td>\n",
       "    </tr>\n",
       "    <tr>\n",
       "      <td>1</td>\n",
       "      <td>2020-04-01-17:38:48.325</td>\n",
       "      <td>DEBUG</td>\n",
       "      <td>Checking Root session ID.</td>\n",
       "    </tr>\n",
       "    <tr>\n",
       "      <td>2</td>\n",
       "      <td>2020-04-01-17:38:48.012</td>\n",
       "      <td>DEBUG</td>\n",
       "      <td>withFuture: Completion action begin for (Some(...</td>\n",
       "    </tr>\n",
       "    <tr>\n",
       "      <td>3</td>\n",
       "      <td>2020-04-01-17:38:48.005</td>\n",
       "      <td>DEBUG</td>\n",
       "      <td>withFuture: Completion action begin for (Some(...</td>\n",
       "    </tr>\n",
       "    <tr>\n",
       "      <td>4</td>\n",
       "      <td>2020-04-01-17:38:47.990</td>\n",
       "      <td>DEBUG</td>\n",
       "      <td>Checking Root session ID.</td>\n",
       "    </tr>\n",
       "  </tbody>\n",
       "</table>\n",
       "</div>"
      ],
      "text/plain": [
       "                  Datetime Message Severity  \\\n",
       "0  2020-04-01-17:38:47.836            DEBUG   \n",
       "1  2020-04-01-17:38:48.325            DEBUG   \n",
       "2  2020-04-01-17:38:48.012            DEBUG   \n",
       "3  2020-04-01-17:38:48.005            DEBUG   \n",
       "4  2020-04-01-17:38:47.990            DEBUG   \n",
       "\n",
       "                                        Message Text  \n",
       "0  (ThriftTracker: Invoking getVirtualCenter with...  \n",
       "1                          Checking Root session ID.  \n",
       "2  withFuture: Completion action begin for (Some(...  \n",
       "3  withFuture: Completion action begin for (Some(...  \n",
       "4                          Checking Root session ID.  "
      ]
     },
     "execution_count": 54,
     "metadata": {},
     "output_type": "execute_result"
    }
   ],
   "source": [
    "# lets look into our Dataframe\n",
    "stmgr.head(5) #head(X) change X to a number of lines you want to look into."
   ]
  },
  {
   "cell_type": "code",
   "execution_count": 50,
   "metadata": {},
   "outputs": [
    {
     "data": {
      "text/plain": [
       "Datetime            object\n",
       "Message Severity    object\n",
       "Message Text        object\n",
       "dtype: object"
      ]
     },
     "execution_count": 50,
     "metadata": {},
     "output_type": "execute_result"
    }
   ],
   "source": [
    "# What are the datatypes of the each column. FYI : object means \"string\"\n",
    "stmgr.dtypes"
   ]
  },
  {
   "cell_type": "code",
   "execution_count": 34,
   "metadata": {},
   "outputs": [
    {
     "data": {
      "text/plain": [
       "array(['DEBUG', 'INFO', 'WARN'], dtype=object)"
      ]
     },
     "execution_count": 34,
     "metadata": {},
     "output_type": "execute_result"
    }
   ],
   "source": [
    "#What are the unique values in the Message Severity columns.\n",
    "stmgr['Message Severity'].unique()"
   ]
  },
  {
   "cell_type": "code",
   "execution_count": 35,
   "metadata": {},
   "outputs": [
    {
     "data": {
      "text/html": [
       "<div>\n",
       "<style scoped>\n",
       "    .dataframe tbody tr th:only-of-type {\n",
       "        vertical-align: middle;\n",
       "    }\n",
       "\n",
       "    .dataframe tbody tr th {\n",
       "        vertical-align: top;\n",
       "    }\n",
       "\n",
       "    .dataframe thead th {\n",
       "        text-align: right;\n",
       "    }\n",
       "</style>\n",
       "<table border=\"1\" class=\"dataframe\">\n",
       "  <thead>\n",
       "    <tr style=\"text-align: right;\">\n",
       "      <th></th>\n",
       "      <th>Datetime</th>\n",
       "      <th>Message Severity</th>\n",
       "      <th>Message Text</th>\n",
       "    </tr>\n",
       "  </thead>\n",
       "  <tbody>\n",
       "    <tr>\n",
       "      <td>0</td>\n",
       "      <td>2020-04-01-17:38:47.836</td>\n",
       "      <td>DEBUG</td>\n",
       "      <td>(ThriftTracker: Invoking getVirtualCenter with...</td>\n",
       "    </tr>\n",
       "    <tr>\n",
       "      <td>1</td>\n",
       "      <td>2020-04-01-17:38:48.325</td>\n",
       "      <td>DEBUG</td>\n",
       "      <td>Checking Root session ID.</td>\n",
       "    </tr>\n",
       "    <tr>\n",
       "      <td>2</td>\n",
       "      <td>2020-04-01-17:38:48.012</td>\n",
       "      <td>DEBUG</td>\n",
       "      <td>withFuture: Completion action begin for (Some(...</td>\n",
       "    </tr>\n",
       "    <tr>\n",
       "      <td>3</td>\n",
       "      <td>2020-04-01-17:38:48.005</td>\n",
       "      <td>DEBUG</td>\n",
       "      <td>withFuture: Completion action begin for (Some(...</td>\n",
       "    </tr>\n",
       "    <tr>\n",
       "      <td>4</td>\n",
       "      <td>2020-04-01-17:38:47.990</td>\n",
       "      <td>DEBUG</td>\n",
       "      <td>Checking Root session ID.</td>\n",
       "    </tr>\n",
       "  </tbody>\n",
       "</table>\n",
       "</div>"
      ],
      "text/plain": [
       "                  Datetime Message Severity  \\\n",
       "0  2020-04-01-17:38:47.836            DEBUG   \n",
       "1  2020-04-01-17:38:48.325            DEBUG   \n",
       "2  2020-04-01-17:38:48.012            DEBUG   \n",
       "3  2020-04-01-17:38:48.005            DEBUG   \n",
       "4  2020-04-01-17:38:47.990            DEBUG   \n",
       "\n",
       "                                        Message Text  \n",
       "0  (ThriftTracker: Invoking getVirtualCenter with...  \n",
       "1                          Checking Root session ID.  \n",
       "2  withFuture: Completion action begin for (Some(...  \n",
       "3  withFuture: Completion action begin for (Some(...  \n",
       "4                          Checking Root session ID.  "
      ]
     },
     "execution_count": 35,
     "metadata": {},
     "output_type": "execute_result"
    }
   ],
   "source": [
    "#Interested in getting all the events for a certain date?\n",
    "stmgr[stmgr['Datetime'].str.contains(\"2020-04-01\")].head()"
   ]
  },
  {
   "cell_type": "code",
   "execution_count": 38,
   "metadata": {},
   "outputs": [
    {
     "data": {
      "text/plain": [
       "array(['DEBUG', 'INFO', 'WARN'], dtype=object)"
      ]
     },
     "execution_count": 38,
     "metadata": {},
     "output_type": "execute_result"
    }
   ],
   "source": [
    "#For a particular date what is the severity messages that you see?\n",
    "stmgr[stmgr['Datetime'].str.contains(\"2020-04-01\")]['Message Severity'].unique()"
   ]
  },
  {
   "cell_type": "code",
   "execution_count": 39,
   "metadata": {},
   "outputs": [
    {
     "data": {
      "text/html": [
       "<div>\n",
       "<style scoped>\n",
       "    .dataframe tbody tr th:only-of-type {\n",
       "        vertical-align: middle;\n",
       "    }\n",
       "\n",
       "    .dataframe tbody tr th {\n",
       "        vertical-align: top;\n",
       "    }\n",
       "\n",
       "    .dataframe thead th {\n",
       "        text-align: right;\n",
       "    }\n",
       "</style>\n",
       "<table border=\"1\" class=\"dataframe\">\n",
       "  <thead>\n",
       "    <tr style=\"text-align: right;\">\n",
       "      <th></th>\n",
       "      <th>Datetime</th>\n",
       "      <th>Message Severity</th>\n",
       "      <th>Message Text</th>\n",
       "    </tr>\n",
       "  </thead>\n",
       "  <tbody>\n",
       "    <tr>\n",
       "      <td>137</td>\n",
       "      <td>2020-04-01-17:38:53.479</td>\n",
       "      <td>WARN</td>\n",
       "      <td>Node positions in ZK is empty</td>\n",
       "    </tr>\n",
       "    <tr>\n",
       "      <td>373</td>\n",
       "      <td>2020-04-01-17:44:16.956</td>\n",
       "      <td>WARN</td>\n",
       "      <td>No gateway found for ESXi port group [Storage ...</td>\n",
       "    </tr>\n",
       "    <tr>\n",
       "      <td>388</td>\n",
       "      <td>2020-04-01-17:44:16.993</td>\n",
       "      <td>WARN</td>\n",
       "      <td>Failed to get [scvmclient] version for node [1...</td>\n",
       "    </tr>\n",
       "    <tr>\n",
       "      <td>391</td>\n",
       "      <td>2020-04-01-17:44:16.995</td>\n",
       "      <td>WARN</td>\n",
       "      <td>Failed to get [stHypervisorSvc] version for no...</td>\n",
       "    </tr>\n",
       "    <tr>\n",
       "      <td>839</td>\n",
       "      <td>2020-04-01-18:00:02.566</td>\n",
       "      <td>WARN</td>\n",
       "      <td>Site UUID Map in ZK is empty</td>\n",
       "    </tr>\n",
       "  </tbody>\n",
       "</table>\n",
       "</div>"
      ],
      "text/plain": [
       "                    Datetime Message Severity  \\\n",
       "137  2020-04-01-17:38:53.479             WARN   \n",
       "373  2020-04-01-17:44:16.956             WARN   \n",
       "388  2020-04-01-17:44:16.993             WARN   \n",
       "391  2020-04-01-17:44:16.995             WARN   \n",
       "839  2020-04-01-18:00:02.566             WARN   \n",
       "\n",
       "                                          Message Text  \n",
       "137                      Node positions in ZK is empty  \n",
       "373  No gateway found for ESXi port group [Storage ...  \n",
       "388  Failed to get [scvmclient] version for node [1...  \n",
       "391  Failed to get [stHypervisorSvc] version for no...  \n",
       "839                       Site UUID Map in ZK is empty  "
      ]
     },
     "execution_count": 39,
     "metadata": {},
     "output_type": "execute_result"
    }
   ],
   "source": [
    "#For a particular date date what are the events that registered a WARN severity?\n",
    "stmgr.loc[stmgr[stmgr['Datetime'].str.contains(\"2020-04-01\")]['Message Severity'] == 'WARN'].head(5)"
   ]
  },
  {
   "cell_type": "code",
   "execution_count": 55,
   "metadata": {},
   "outputs": [
    {
     "name": "stdout",
     "output_type": "stream",
     "text": [
      "==> Node positions in ZK is empty\n",
      "==> No gateway found for ESXi port group [Storage Hypervisor Data Network] on the host [sjs-hx-2-esxi-04]. Set the gateway to 0.0.0.0\n",
      "==> Failed to get [scvmclient] version for node [1f82077d-6702-214d-8814-e776ffc0f53c] via WBEM: Ex: [WBEMException: CIM_ERR_FAILED (Unable to connect)]\n",
      "==> Failed to get [stHypervisorSvc] version for node [1f82077d-6702-214d-8814-e776ffc0f53c] via WBEM: Ex: [WBEMException: CIM_ERR_FAILED (Unable to connect)]\n",
      "==> Site UUID Map in ZK is empty\n"
     ]
    }
   ],
   "source": [
    "#For the date \"2020-04-01\" check \"Message Text\" column with Severity of \"WARN\" in \"Message Severity\" \n",
    "# Going to just check the first 5 lines\n",
    "\n",
    "for i in stmgr.loc[stmgr[stmgr['Datetime'].str.contains(\"2020-04-01\")]['Message Severity'] == 'WARN'][\"Message Text\"].head(5):\n",
    "    print (\"==> \" + i)"
   ]
  },
  {
   "cell_type": "code",
   "execution_count": 42,
   "metadata": {},
   "outputs": [
    {
     "data": {
      "text/html": [
       "<div>\n",
       "<style scoped>\n",
       "    .dataframe tbody tr th:only-of-type {\n",
       "        vertical-align: middle;\n",
       "    }\n",
       "\n",
       "    .dataframe tbody tr th {\n",
       "        vertical-align: top;\n",
       "    }\n",
       "\n",
       "    .dataframe thead th {\n",
       "        text-align: right;\n",
       "    }\n",
       "</style>\n",
       "<table border=\"1\" class=\"dataframe\">\n",
       "  <thead>\n",
       "    <tr style=\"text-align: right;\">\n",
       "      <th></th>\n",
       "      <th>Datetime</th>\n",
       "      <th>Message Severity</th>\n",
       "      <th>Message Text</th>\n",
       "    </tr>\n",
       "  </thead>\n",
       "  <tbody>\n",
       "    <tr>\n",
       "      <td>137</td>\n",
       "      <td>2020-04-01-17:38:53.479</td>\n",
       "      <td>WARN</td>\n",
       "      <td>Node positions in ZK is empty</td>\n",
       "    </tr>\n",
       "    <tr>\n",
       "      <td>373</td>\n",
       "      <td>2020-04-01-17:44:16.956</td>\n",
       "      <td>WARN</td>\n",
       "      <td>No gateway found for ESXi port group [Storage ...</td>\n",
       "    </tr>\n",
       "    <tr>\n",
       "      <td>388</td>\n",
       "      <td>2020-04-01-17:44:16.993</td>\n",
       "      <td>WARN</td>\n",
       "      <td>Failed to get [scvmclient] version for node [1...</td>\n",
       "    </tr>\n",
       "  </tbody>\n",
       "</table>\n",
       "</div>"
      ],
      "text/plain": [
       "                    Datetime Message Severity  \\\n",
       "137  2020-04-01-17:38:53.479             WARN   \n",
       "373  2020-04-01-17:44:16.956             WARN   \n",
       "388  2020-04-01-17:44:16.993             WARN   \n",
       "\n",
       "                                          Message Text  \n",
       "137                      Node positions in ZK is empty  \n",
       "373  No gateway found for ESXi port group [Storage ...  \n",
       "388  Failed to get [scvmclient] version for node [1...  "
      ]
     },
     "execution_count": 42,
     "metadata": {},
     "output_type": "execute_result"
    }
   ],
   "source": [
    "#Just lazy find all the WARN messages.\n",
    "stmgr.loc[stmgr['Message Severity'] == 'WARN'].head(3)"
   ]
  },
  {
   "cell_type": "code",
   "execution_count": 48,
   "metadata": {},
   "outputs": [
    {
     "data": {
      "text/html": [
       "<div>\n",
       "<style scoped>\n",
       "    .dataframe tbody tr th:only-of-type {\n",
       "        vertical-align: middle;\n",
       "    }\n",
       "\n",
       "    .dataframe tbody tr th {\n",
       "        vertical-align: top;\n",
       "    }\n",
       "\n",
       "    .dataframe thead th {\n",
       "        text-align: right;\n",
       "    }\n",
       "</style>\n",
       "<table border=\"1\" class=\"dataframe\">\n",
       "  <thead>\n",
       "    <tr style=\"text-align: right;\">\n",
       "      <th></th>\n",
       "      <th>Datetime</th>\n",
       "      <th>Message Severity</th>\n",
       "      <th>Message Text</th>\n",
       "    </tr>\n",
       "  </thead>\n",
       "  <tbody>\n",
       "    <tr>\n",
       "      <td>116</td>\n",
       "      <td>2020-04-01-17:38:50.589</td>\n",
       "      <td>DEBUG</td>\n",
       "      <td>VolumeAccess: cluster status enabledCount : 0,...</td>\n",
       "    </tr>\n",
       "    <tr>\n",
       "      <td>117</td>\n",
       "      <td>2020-04-01-17:38:50.589</td>\n",
       "      <td>DEBUG</td>\n",
       "      <td>VolumeAccess: clusterStatus : Notenabled, dsSt...</td>\n",
       "    </tr>\n",
       "    <tr>\n",
       "      <td>281</td>\n",
       "      <td>2020-04-01-17:44:16.635</td>\n",
       "      <td>DEBUG</td>\n",
       "      <td>getClusterInt clusterState: Online</td>\n",
       "    </tr>\n",
       "    <tr>\n",
       "      <td>297</td>\n",
       "      <td>2020-04-01-17:44:16.685</td>\n",
       "      <td>DEBUG</td>\n",
       "      <td>Getting virtNode from cluster: EntityRef(1f820...</td>\n",
       "    </tr>\n",
       "    <tr>\n",
       "      <td>298</td>\n",
       "      <td>2020-04-01-17:44:16.685</td>\n",
       "      <td>DEBUG</td>\n",
       "      <td>Getting hostsystem from cluster: EntityRef(1f8...</td>\n",
       "    </tr>\n",
       "  </tbody>\n",
       "</table>\n",
       "</div>"
      ],
      "text/plain": [
       "                    Datetime Message Severity  \\\n",
       "116  2020-04-01-17:38:50.589            DEBUG   \n",
       "117  2020-04-01-17:38:50.589            DEBUG   \n",
       "281  2020-04-01-17:44:16.635            DEBUG   \n",
       "297  2020-04-01-17:44:16.685            DEBUG   \n",
       "298  2020-04-01-17:44:16.685            DEBUG   \n",
       "\n",
       "                                          Message Text  \n",
       "116  VolumeAccess: cluster status enabledCount : 0,...  \n",
       "117  VolumeAccess: clusterStatus : Notenabled, dsSt...  \n",
       "281                 getClusterInt clusterState: Online  \n",
       "297  Getting virtNode from cluster: EntityRef(1f820...  \n",
       "298  Getting hostsystem from cluster: EntityRef(1f8...  "
      ]
     },
     "execution_count": 48,
     "metadata": {},
     "output_type": "execute_result"
    }
   ],
   "source": [
    "stmgr.loc[stmgr['Message Text'].str.contains(\"cluster\").values].head(5)"
   ]
  },
  {
   "cell_type": "code",
   "execution_count": null,
   "metadata": {},
   "outputs": [],
   "source": []
  }
 ],
 "metadata": {
  "kernelspec": {
   "display_name": "Python 3",
   "language": "python",
   "name": "python3"
  },
  "language_info": {
   "codemirror_mode": {
    "name": "ipython",
    "version": 3
   },
   "file_extension": ".py",
   "mimetype": "text/x-python",
   "name": "python",
   "nbconvert_exporter": "python",
   "pygments_lexer": "ipython3",
   "version": "3.7.4"
  }
 },
 "nbformat": 4,
 "nbformat_minor": 2
}
